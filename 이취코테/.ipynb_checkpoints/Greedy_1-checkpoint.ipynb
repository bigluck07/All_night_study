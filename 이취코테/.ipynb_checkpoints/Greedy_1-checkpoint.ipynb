{
 "cells": [
  {
   "cell_type": "code",
   "execution_count": 1,
   "metadata": {},
   "outputs": [],
   "source": [
    "import time\n",
    "import psutil\n",
    "def memory_usage(message: str = 'debug'):\n",
    "    # current process RAM usage\n",
    "    p = psutil.Process()\n",
    "    rss = p.memory_info().rss / 2 ** 20 # Bytes to MB\n",
    "    print(f\"[{message}] memory usage: {rss: 10.5f} MB\")"
   ]
  },
  {
   "cell_type": "markdown",
   "metadata": {},
   "source": [
    "### 예제\n",
    "- 거스름돈 문제\n",
    "500, 100, 50, 10 동전으로 거슬러 줄 때 동전의 수가 가장 적은 조합을 찾으시오 "
   ]
  },
  {
   "cell_type": "code",
   "execution_count": 12,
   "metadata": {},
   "outputs": [
    {
     "name": "stdout",
     "output_type": "stream",
     "text": [
      "정답: 6\n",
      "('time :', 0.0010230541229248047)\n",
      "[#1] memory usage:   76.09766 MB\n"
     ]
    }
   ],
   "source": [
    "start_time = time.time()\n",
    "\n",
    "change = 1260\n",
    "coins = [500, 100, 50, 10]\n",
    "count = 0\n",
    "\n",
    "for i in coins:\n",
    "    count += (change//i)\n",
    "    change%=i\n",
    "\n",
    "print(\"정답:\",count)\n",
    "\n",
    "end_time = time.time()\n",
    "print((\"time :\", end_time-start_time))\n",
    "memory_usage('#1')"
   ]
  },
  {
   "cell_type": "markdown",
   "metadata": {},
   "source": [
    "### 문제 1 - 큰 수의 법칙\n",
    "- 풀이 30분, 시간제한 1초, 메모리제한 120MB, 기출 2019 국가교육기관 코테\n",
    "\n",
    "다양한 수로 이루어진 배열이 주어질 때 수들을 M번 더해 가장 큰수를 만드는 법칙을 구현하시오\n",
    "단, 배열의 특정한 인덱스에 해당하는 수가 연속해서 K번을 초과할 수 없으나, 인덱스가 다른 같은 수는 다른 수로 취급한다.\n",
    "\n",
    "- 예시\n",
    "\n",
    "[2,4,5,4,6], M=8 , K=3이 주어지면\n",
    "6+6+6+5+6+6+6+4 = 46이 가장 큰 수 이다.\n",
    "\n",
    "- 입력\n",
    "\n",
    "배열의 길이(N), 숫자 반복횟수(M) 사용할 숫자 수(K)\n",
    "N(2<= N <=1,000), M(1<= M <= 10,000), K(1<= K <=10,000) -> 자연수, 공백으로 구분\n",
    "N길이의 자연수(1이상 10,000이하) -> 공백으로 구분\n",
    "\n",
    "- 출력조건\n",
    "\n",
    "첫 줄에 정답 출력"
   ]
  },
  {
   "cell_type": "code",
   "execution_count": 7,
   "metadata": {},
   "outputs": [
    {
     "name": "stdout",
     "output_type": "stream",
     "text": [
      "정답: 46\n",
      "('time :', 0.0)\n",
      "[#1] memory usage:   88.85938 MB\n"
     ]
    }
   ],
   "source": [
    "import sys\n",
    "start_time = time.time()\n",
    "\n",
    "N,M,K = 5,8,3 # map(int, sys.stdin.readline().split())\n",
    "data = [2,4,5,4,6] # list(map(int, sys.stdin.readline().split()))\n",
    "\n",
    "result = 0\n",
    "\n",
    "\n",
    "data.sort()\n",
    "first_num = data[-1]\n",
    "second_num = data[-2]\n",
    "\n",
    "# # 단순\n",
    "# if first_num==second_num or M < K:\n",
    "#     result = first_num*M\n",
    "# else:\n",
    "#     while True:\n",
    "#         for i in range(K):\n",
    "#             if M == 0:\n",
    "#                 break\n",
    "#             result+=first_num\n",
    "#             M-=1\n",
    "#         if M==0:\n",
    "#             break\n",
    "#         result+=second_num\n",
    "#         M-=1\n",
    "\n",
    "# 생각\n",
    "cnt_f = int(M/(K+1))*K + (M%(K+1)) # (가장큰수 k번 + 두번째큰수 1번) + M을 (k+1)번으로 나눈 나머지 = 가장큰수가 더해질 수 있는 횟수 \n",
    "cnt_s = M-cnt_f\n",
    "\n",
    "result = (first_num*cnt_f)+(second_num*cnt_s)\n",
    "\n",
    "\n",
    "print(\"정답:\",result)\n",
    "\n",
    "end_time = time.time()\n",
    "print((\"time :\", end_time-start_time))\n",
    "memory_usage('#1')\n",
    "\t"
   ]
  },
  {
   "cell_type": "code",
   "execution_count": null,
   "metadata": {},
   "outputs": [],
   "source": []
  },
  {
   "cell_type": "code",
   "execution_count": null,
   "metadata": {},
   "outputs": [],
   "source": []
  }
 ],
 "metadata": {
  "kernelspec": {
   "display_name": "Python 3 (ipykernel)",
   "language": "python",
   "name": "python3"
  },
  "language_info": {
   "codemirror_mode": {
    "name": "ipython",
    "version": 3
   },
   "file_extension": ".py",
   "mimetype": "text/x-python",
   "name": "python",
   "nbconvert_exporter": "python",
   "pygments_lexer": "ipython3",
   "version": "3.10.1"
  },
  "vscode": {
   "interpreter": {
    "hash": "fb4569285eef3a3450cb62085a5b1e0da4bce0af555edc33dcf29baf3acc1368"
   }
  }
 },
 "nbformat": 4,
 "nbformat_minor": 4
}
