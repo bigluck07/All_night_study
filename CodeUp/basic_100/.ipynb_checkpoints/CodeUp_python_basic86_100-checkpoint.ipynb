{
 "cells": [
  {
   "cell_type": "code",
   "execution_count": 3,
   "id": "740569f2-5047-4d2d-9407-9727909f9b6f",
   "metadata": {},
   "outputs": [
    {
     "name": "stdout",
     "output_type": "stream",
     "text": [
      "6087\n",
      "6088\n",
      "6089\n",
      "6090\n",
      "6091\n",
      "6092\n",
      "6093\n",
      "6094\n",
      "6095\n",
      "6096\n",
      "6097\n",
      "6098\n",
      "6099\n",
      "6100\n",
      "6101\n"
     ]
    }
   ],
   "source": [
    "# 6086\n"
   ]
  },
  {
   "cell_type": "code",
   "execution_count": null,
   "id": "bdac28d6-6e4c-48be-89a2-7e0a99f48613",
   "metadata": {},
   "outputs": [],
   "source": [
    "6087\n",
    "6088\n",
    "6089\n",
    "6090\n",
    "6091\n",
    "6092\n",
    "6093\n",
    "6094\n",
    "6095\n",
    "6096\n",
    "6097\n",
    "6098\n",
    "6099\n",
    "6100"
   ]
  }
 ],
 "metadata": {
  "kernelspec": {
   "display_name": "Python 3 (ipykernel)",
   "language": "python",
   "name": "python3"
  },
  "language_info": {
   "codemirror_mode": {
    "name": "ipython",
    "version": 3
   },
   "file_extension": ".py",
   "mimetype": "text/x-python",
   "name": "python",
   "nbconvert_exporter": "python",
   "pygments_lexer": "ipython3",
   "version": "3.9.1"
  }
 },
 "nbformat": 4,
 "nbformat_minor": 5
}
