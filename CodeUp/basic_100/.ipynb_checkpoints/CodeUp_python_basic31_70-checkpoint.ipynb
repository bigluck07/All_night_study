{
 "cells": [
  {
   "cell_type": "code",
   "execution_count": 1,
   "id": "a5789975-9139-486f-a790-06c93c0e2551",
   "metadata": {},
   "outputs": [
    {
     "name": "stdin",
     "output_type": "stream",
     "text": [
      " 65\n"
     ]
    },
    {
     "name": "stdout",
     "output_type": "stream",
     "text": [
      "A\n"
     ]
    }
   ],
   "source": [
    "# 6031\n",
    "n = int(input())# 65 -> A\n",
    "print(chr(n))"
   ]
  },
  {
   "cell_type": "code",
   "execution_count": 2,
   "id": "d330e155-08ae-460d-b1fd-0ea924d8f803",
   "metadata": {},
   "outputs": [
    {
     "name": "stdin",
     "output_type": "stream",
     "text": [
      " -1\n"
     ]
    },
    {
     "name": "stdout",
     "output_type": "stream",
     "text": [
      "1\n"
     ]
    }
   ],
   "source": [
    "# 6032 정수 부호를 바꿔 출력한다.\n",
    "n = int(input()) # -1 -> 1\n",
    "print(-n)"
   ]
  },
  {
   "cell_type": "code",
   "execution_count": 4,
   "id": "78fe5825-5c07-4a2c-b2f6-942f966c4477",
   "metadata": {},
   "outputs": [
    {
     "name": "stdin",
     "output_type": "stream",
     "text": [
      " a\n"
     ]
    },
    {
     "name": "stdout",
     "output_type": "stream",
     "text": [
      "b\n"
     ]
    }
   ],
   "source": [
    "# 6033 문자 1개 입력받아 다음 문자 출력\n",
    "n = int(ord(input()))+1 # a -> b\n",
    "print(chr(n))"
   ]
  },
  {
   "cell_type": "code",
   "execution_count": 5,
   "id": "1e5cd00e-5f77-4664-bbf0-ff9a56748bdf",
   "metadata": {},
   "outputs": [
    {
     "name": "stdin",
     "output_type": "stream",
     "text": [
      " 123 -123\n"
     ]
    },
    {
     "name": "stdout",
     "output_type": "stream",
     "text": [
      "246\n"
     ]
    }
   ],
   "source": [
    "# 6034 정수 2개 입력받아 차 계산\n",
    "a, b = map(int, input().split()) #  123 -123 -> 246\n",
    "print(a-b)"
   ]
  },
  {
   "cell_type": "code",
   "execution_count": 8,
   "id": "2336a564-79ee-45e2-9d67-181883d0322d",
   "metadata": {},
   "outputs": [
    {
     "name": "stdin",
     "output_type": "stream",
     "text": [
      " 0.5 0.2\n"
     ]
    },
    {
     "name": "stdout",
     "output_type": "stream",
     "text": [
      "0.1\n"
     ]
    }
   ],
   "source": [
    "# 6035 실수 2개 입력받아 곱 계산\n",
    "a, b = map(float, input().split()) # 0.5 2.0 -> 1.0\n",
    "print(a*b)"
   ]
  },
  {
   "cell_type": "code",
   "execution_count": 10,
   "id": "402ed4fb-0aa9-4990-8e76-726e53a8b330",
   "metadata": {},
   "outputs": [
    {
     "name": "stdin",
     "output_type": "stream",
     "text": [
      " love 3\n"
     ]
    },
    {
     "name": "stdout",
     "output_type": "stream",
     "text": [
      "lovelovelove\n"
     ]
    }
   ],
   "source": [
    "# 6036 단어 여러 번 출력\n",
    "w, n = input().split() # love 3 -> lovelovelove\n",
    "print(w*int(n))"
   ]
  },
  {
   "cell_type": "code",
   "execution_count": 11,
   "id": "2e90277a-118a-4ef4-94f8-a7d28e6daa23",
   "metadata": {},
   "outputs": [
    {
     "name": "stdin",
     "output_type": "stream",
     "text": [
      " 3\n",
      " I love CS\n"
     ]
    },
    {
     "name": "stdout",
     "output_type": "stream",
     "text": [
      "I love CSI love CSI love CS\n"
     ]
    }
   ],
   "source": [
    "# 6037 문장 여러 번 출력\n",
    "n = input() # 3\n",
    "s = input() # I love CS -> I love CSI love CSI love CS\n",
    "print(s*int(n))\n"
   ]
  },
  {
   "cell_type": "code",
   "execution_count": 12,
   "id": "d6d66e21-3c79-41c2-b791-b5757cee0fe3",
   "metadata": {},
   "outputs": [
    {
     "name": "stdin",
     "output_type": "stream",
     "text": [
      " 2 10\n"
     ]
    },
    {
     "name": "stdout",
     "output_type": "stream",
     "text": [
      "1024\n"
     ]
    }
   ],
   "source": [
    "# 6038 정수 2개 입력받아 거듭제곱 계산\n",
    "a,b = map(int, input().split()) #  2 10 -> 1024\n",
    "print(a**b)"
   ]
  },
  {
   "cell_type": "code",
   "execution_count": 13,
   "id": "1847a253-65be-4c43-8ca2-63e4c027947d",
   "metadata": {},
   "outputs": [
    {
     "name": "stdin",
     "output_type": "stream",
     "text": [
      " 4.0 2.0\n"
     ]
    },
    {
     "name": "stdout",
     "output_type": "stream",
     "text": [
      "16.0\n"
     ]
    }
   ],
   "source": [
    "# 6039 실수 2개 입력받아 거듭제곱 계산\n",
    "a,b = map(float, input().split())\n",
    "print(a**b)"
   ]
  },
  {
   "cell_type": "code",
   "execution_count": 15,
   "id": "34327262-9354-45d9-975e-26620df34a1e",
   "metadata": {},
   "outputs": [
    {
     "name": "stdin",
     "output_type": "stream",
     "text": [
      " 10 3\n"
     ]
    },
    {
     "name": "stdout",
     "output_type": "stream",
     "text": [
      "3\n"
     ]
    }
   ],
   "source": [
    "# 6040 정수 2개 입력받아 나눈 몫 계산\n",
    "a,b = map(int, input().split())\n",
    "print(a//b)"
   ]
  },
  {
   "cell_type": "code",
   "execution_count": 16,
   "id": "153b95c1-6680-4704-b56b-d9b886097dc1",
   "metadata": {},
   "outputs": [
    {
     "name": "stdin",
     "output_type": "stream",
     "text": [
      " 10 3\n"
     ]
    },
    {
     "name": "stdout",
     "output_type": "stream",
     "text": [
      "1\n"
     ]
    }
   ],
   "source": [
    "# 6041 정수 2개 입력받아 나눈 나머지 계산\n",
    "a,b = map(int, input().split())\n",
    "print(a%b)"
   ]
  },
  {
   "cell_type": "code",
   "execution_count": 18,
   "id": "f21e4e30-5d1e-4962-a449-7dfe5b50dd0e",
   "metadata": {},
   "outputs": [
    {
     "name": "stdin",
     "output_type": "stream",
     "text": [
      " 3.141592\n"
     ]
    },
    {
     "name": "stdout",
     "output_type": "stream",
     "text": [
      "3.14\n"
     ]
    }
   ],
   "source": [
    "# 6042 실수 1개 입력받아 소숫점이하 자리 변환\n",
    "n = float(input())\n",
    "print(format(n, \".2f\"))"
   ]
  },
  {
   "cell_type": "code",
   "execution_count": 25,
   "id": "69d6d9b5-6b66-4019-bf07-206cfffd8375",
   "metadata": {},
   "outputs": [
    {
     "name": "stdin",
     "output_type": "stream",
     "text": [
      " 10.0 3.0\n"
     ]
    },
    {
     "name": "stdout",
     "output_type": "stream",
     "text": [
      "3.333\n"
     ]
    }
   ],
   "source": [
    "# 6043 실수 2개 입력받아 나눈 결과 계산\n",
    "a,b = map(float, input().split())\n",
    "n = \"{0:.3f}\".format(a/b)\n",
    "print(n)"
   ]
  },
  {
   "cell_type": "code",
   "execution_count": 28,
   "id": "59d914d2-d543-43dc-a344-3245911a90de",
   "metadata": {},
   "outputs": [
    {
     "name": "stdin",
     "output_type": "stream",
     "text": [
      " 10 3\n"
     ]
    },
    {
     "name": "stdout",
     "output_type": "stream",
     "text": [
      "13\n",
      "7\n",
      "30\n",
      "3\n",
      "1\n",
      "3.33\n"
     ]
    }
   ],
   "source": [
    "# 6044 정수 2개 입력받아 자동 계산\n",
    "a,b = map(int, input().split())\n",
    "print(a+b)\n",
    "print(a-b)\n",
    "print(a*b)\n",
    "print(a//b)\n",
    "print(a%b)\n",
    "print(format(a/b,\".2f\"))\n",
    "\n",
    "\n"
   ]
  },
  {
   "cell_type": "code",
   "execution_count": 35,
   "id": "54e4ee3b-0f57-4362-9254-26601af059d7",
   "metadata": {},
   "outputs": [
    {
     "name": "stdin",
     "output_type": "stream",
     "text": [
      " 1 2 3\n"
     ]
    },
    {
     "name": "stdout",
     "output_type": "stream",
     "text": [
      "6 2.00\n"
     ]
    }
   ],
   "source": [
    "# 6045 정수 3개 입력받아 합과 평균 출력\n",
    "a, b, c = map(int, input().split())\n",
    "print(a+b+c, format((a+b+c)/3, \".2f\"))"
   ]
  },
  {
   "cell_type": "code",
   "execution_count": 36,
   "id": "6a67ecc6-c995-46fd-a672-14d4a5abb2ef",
   "metadata": {},
   "outputs": [
    {
     "name": "stdin",
     "output_type": "stream",
     "text": [
      " 1024\n"
     ]
    },
    {
     "name": "stdout",
     "output_type": "stream",
     "text": [
      "2048\n"
     ]
    }
   ],
   "source": [
    "# 6046 정수 1개 입력받아 2배 곱해 출력\n",
    "print(int(input())*2)"
   ]
  },
  {
   "cell_type": "code",
   "execution_count": 37,
   "id": "b98477e8-d47b-4311-8b9e-b75609052bb0",
   "metadata": {},
   "outputs": [
    {
     "name": "stdin",
     "output_type": "stream",
     "text": [
      " 1 3\n"
     ]
    },
    {
     "name": "stdout",
     "output_type": "stream",
     "text": [
      "8\n"
     ]
    }
   ],
   "source": [
    "# 6047 2의 거듭제곱 배로 곱해 출력\n",
    "a,b = map(int, input().split())\n",
    "print(a*(2**b))"
   ]
  },
  {
   "cell_type": "code",
   "execution_count": 38,
   "id": "57955a26-5c35-482e-8ef5-7002cf8aaf45",
   "metadata": {},
   "outputs": [
    {
     "name": "stdin",
     "output_type": "stream",
     "text": [
      " 1 9\n"
     ]
    },
    {
     "name": "stdout",
     "output_type": "stream",
     "text": [
      "True\n"
     ]
    }
   ],
   "source": [
    "# 6048 정수 2개 입력받아 비교\n",
    "a,b = map(int, input().split())\n",
    "if a<b: print(\"True\")\n",
    "else: print(\"False\")"
   ]
  },
  {
   "cell_type": "code",
   "execution_count": 39,
   "id": "892a79b0-b893-46b7-aa30-d41b0db78702",
   "metadata": {},
   "outputs": [
    {
     "name": "stdin",
     "output_type": "stream",
     "text": [
      " 0 0\n"
     ]
    },
    {
     "name": "stdout",
     "output_type": "stream",
     "text": [
      "True\n"
     ]
    }
   ],
   "source": [
    "# 6049 정수 2개 입력받아 비교\n",
    "a,b = map(int, input().split())\n",
    "if a==b:print(\"True\")\n",
    "else:print(\"False\")"
   ]
  },
  {
   "cell_type": "code",
   "execution_count": 40,
   "id": "28ca8dbe-6d94-468e-8fe6-b04845ec626d",
   "metadata": {},
   "outputs": [
    {
     "name": "stdin",
     "output_type": "stream",
     "text": [
      " 0 -1\n"
     ]
    },
    {
     "name": "stdout",
     "output_type": "stream",
     "text": [
      "False\n"
     ]
    }
   ],
   "source": [
    "# 6050 정수 2개 입력받아 비교\n",
    "a,b = map(int, input().split())\n",
    "if b >= a: print(\"True\")\n",
    "else: print(\"False\")"
   ]
  },
  {
   "cell_type": "code",
   "execution_count": 41,
   "id": "89c7f38b-6b57-43f0-9cd5-b4c0fba9b76c",
   "metadata": {},
   "outputs": [
    {
     "name": "stdin",
     "output_type": "stream",
     "text": [
      " 0 1\n"
     ]
    },
    {
     "name": "stdout",
     "output_type": "stream",
     "text": [
      "True\n"
     ]
    }
   ],
   "source": [
    "# 6051 정수 2개 입력받아 비교\n",
    "a,b = map(int, input().split())\n",
    "if a != b: print(\"True\")\n",
    "else: print(\"False\")"
   ]
  },
  {
   "cell_type": "code",
   "execution_count": 42,
   "id": "faa5c4ee-89e6-4454-9978-e91dcee2ca95",
   "metadata": {},
   "outputs": [
    {
     "name": "stdin",
     "output_type": "stream",
     "text": [
      " 1\n"
     ]
    },
    {
     "name": "stdout",
     "output_type": "stream",
     "text": [
      "True\n"
     ]
    }
   ],
   "source": [
    "# 6052 정수 입력받아 참 거짓 평가\n",
    "n = int(input())\n",
    "print(bool(n))"
   ]
  },
  {
   "cell_type": "code",
   "execution_count": 43,
   "id": "4c63e823-297c-47a9-b8dd-cb3d80d0d7a1",
   "metadata": {},
   "outputs": [
    {
     "name": "stdin",
     "output_type": "stream",
     "text": [
      " 1\n"
     ]
    },
    {
     "name": "stdout",
     "output_type": "stream",
     "text": [
      "False\n"
     ]
    }
   ],
   "source": [
    "# 6053 참 거짓 바꾸기\n",
    "n = bool(int(input()))\n",
    "print(not n)"
   ]
  },
  {
   "cell_type": "code",
   "execution_count": 46,
   "id": "9bab43bf-0d61-4295-8fab-ee5e27fce43a",
   "metadata": {},
   "outputs": [
    {
     "name": "stdin",
     "output_type": "stream",
     "text": [
      " 1 1\n"
     ]
    },
    {
     "name": "stdout",
     "output_type": "stream",
     "text": [
      "True\n"
     ]
    }
   ],
   "source": [
    "# 6054 둘 다 참일 경우만 참 출력\n",
    "a,b = map(int, input().split())\n",
    "print((bool(a) and bool(b)))"
   ]
  },
  {
   "cell_type": "code",
   "execution_count": 47,
   "id": "1f3b517a-1600-4973-9564-28ebe243a98a",
   "metadata": {},
   "outputs": [
    {
     "name": "stdin",
     "output_type": "stream",
     "text": [
      " 1 0\n"
     ]
    },
    {
     "name": "stdout",
     "output_type": "stream",
     "text": [
      "True\n"
     ]
    }
   ],
   "source": [
    "# 6055 하나라도 참이면 참 출력\n",
    "a,b = map(int, input().split())\n",
    "print((bool(a) or bool(b)))"
   ]
  },
  {
   "cell_type": "code",
   "execution_count": 49,
   "id": "532fd0d9-21ea-4758-b40f-86c326eb6a96",
   "metadata": {},
   "outputs": [
    {
     "name": "stdin",
     "output_type": "stream",
     "text": [
      " 1 1\n"
     ]
    },
    {
     "name": "stdout",
     "output_type": "stream",
     "text": [
      "False\n"
     ]
    }
   ],
   "source": [
    "# 6056 참/거짓이 서로 다를 때에만 참 출력\n",
    "a,b = map(int, input().split())\n",
    "if bool(a) != bool(b): print(\"True\")\n",
    "else: print(\"False\")"
   ]
  },
  {
   "cell_type": "code",
   "execution_count": 50,
   "id": "e8c4ee06-098e-49df-89a3-61c368d9efc3",
   "metadata": {},
   "outputs": [
    {
     "name": "stdin",
     "output_type": "stream",
     "text": [
      " 0 0\n"
     ]
    },
    {
     "name": "stdout",
     "output_type": "stream",
     "text": [
      "True\n"
     ]
    }
   ],
   "source": [
    "# 6058 둘 다 거짓일 경우만 참 출력\n",
    "a,b = map(int, input().split())\n",
    "if (bool(a)==False) and (bool(b)==False): print('True')\n",
    "else:print(\"False\")"
   ]
  },
  {
   "cell_type": "code",
   "execution_count": 52,
   "id": "3d7d7df3-7f9c-4321-8856-f9f29dcf028e",
   "metadata": {},
   "outputs": [
    {
     "name": "stdin",
     "output_type": "stream",
     "text": [
      " 2\n"
     ]
    },
    {
     "name": "stdout",
     "output_type": "stream",
     "text": [
      "-3\n"
     ]
    }
   ],
   "source": [
    "# 6059 비트단위로 NOT 하여 출력\n",
    "'''\n",
    "비트단위(bitwise) 연산자는,\n",
    "~(bitwise not), &(bitwise and), |(bitwise or), ^(bitwise xor),\n",
    "<<(bitwise left shift), >>(bitwise right shift)\n",
    "'''\n",
    "n = int(input())\n",
    "n = ~n\n",
    "print(n)"
   ]
  },
  {
   "cell_type": "code",
   "execution_count": 54,
   "id": "f6dee005-0aa2-47c6-9136-f1a46a41066b",
   "metadata": {},
   "outputs": [
    {
     "name": "stdin",
     "output_type": "stream",
     "text": [
      " 3 5\n"
     ]
    },
    {
     "name": "stdout",
     "output_type": "stream",
     "text": [
      "1\n"
     ]
    }
   ],
   "source": [
    "# 6060 비트단위로 AND 하여 출력\n",
    "a,b = map(int, input().split())\n",
    "print(a&b)"
   ]
  },
  {
   "cell_type": "code",
   "execution_count": 55,
   "id": "d8917a00-a28b-4aba-afff-5e0dc7813a68",
   "metadata": {},
   "outputs": [
    {
     "name": "stdin",
     "output_type": "stream",
     "text": [
      " 3 5\n"
     ]
    },
    {
     "name": "stdout",
     "output_type": "stream",
     "text": [
      "7\n"
     ]
    }
   ],
   "source": [
    "# 6061 비트단위로 OR 하여 출력\n",
    "a,b = map(int, input().split())\n",
    "print(a|b)"
   ]
  },
  {
   "cell_type": "code",
   "execution_count": 56,
   "id": "956f58d1-74c3-4c3f-901a-2d0c6dd9dfea",
   "metadata": {},
   "outputs": [
    {
     "name": "stdin",
     "output_type": "stream",
     "text": [
      " 3 5\n"
     ]
    },
    {
     "name": "stdout",
     "output_type": "stream",
     "text": [
      "6\n"
     ]
    }
   ],
   "source": [
    "# 6062 비트단위로 XOR 하여 출력\n",
    "a,b = map(int, input().split())\n",
    "print(a^b)"
   ]
  },
  {
   "cell_type": "code",
   "execution_count": 58,
   "id": "151e9553-0aaf-43e4-bba9-e12288041e80",
   "metadata": {},
   "outputs": [
    {
     "name": "stdin",
     "output_type": "stream",
     "text": [
      " 123 456\n"
     ]
    },
    {
     "name": "stdout",
     "output_type": "stream",
     "text": [
      "456\n"
     ]
    }
   ],
   "source": [
    "# 6063 정수 2개 입력받아 큰 값 출력\n",
    "a,b = map(int, input().split())\n",
    "print(max(a,b))"
   ]
  },
  {
   "cell_type": "code",
   "execution_count": 59,
   "id": "c91291a6-96cb-478f-8a27-1d494ee81aa1",
   "metadata": {},
   "outputs": [
    {
     "name": "stdin",
     "output_type": "stream",
     "text": [
      " 3 -1 5\n"
     ]
    },
    {
     "name": "stdout",
     "output_type": "stream",
     "text": [
      "-1\n"
     ]
    }
   ],
   "source": [
    "# 6064 정수 3개 입력받아 가장 작은 값 출력\n",
    "a,b,c = map(int, input().split())\n",
    "print(min(a,b,c))"
   ]
  },
  {
   "cell_type": "code",
   "execution_count": 61,
   "id": "9bad04af-b183-4207-83d8-500c67b84af4",
   "metadata": {},
   "outputs": [
    {
     "name": "stdin",
     "output_type": "stream",
     "text": [
      " 1 2 4\n"
     ]
    },
    {
     "name": "stdout",
     "output_type": "stream",
     "text": [
      "2\n",
      "4\n"
     ]
    }
   ],
   "source": [
    "# 6065 정수 3개 입력받아 짝수만 출력\n",
    "a,b,c = map(int, input().split())\n",
    "if a%2 == 0: print(a)\n",
    "if b%2 == 0: print(b)\n",
    "if c%2 == 0: print(c)"
   ]
  },
  {
   "cell_type": "code",
   "execution_count": 63,
   "id": "e3119063-1a5d-4dc9-be59-0a82812d4017",
   "metadata": {},
   "outputs": [
    {
     "name": "stdin",
     "output_type": "stream",
     "text": [
      " 1 2 8\n"
     ]
    },
    {
     "name": "stdout",
     "output_type": "stream",
     "text": [
      "odd\n",
      "even\n",
      "even\n"
     ]
    }
   ],
   "source": [
    "# 6066 정수 3개 입력받아 짝/홀 출력\n",
    "a,b,c = map(int, input().split())\n",
    "if a%2 == 0: print(\"even\") \n",
    "else: print(\"odd\")\n",
    "if b%2 == 0: print(\"even\")\n",
    "else: print(\"odd\")\n",
    "if c%2 == 0: print(\"even\") \n",
    "else: print(\"odd\")"
   ]
  },
  {
   "cell_type": "code",
   "execution_count": 65,
   "id": "2c5fa77e-416e-43d1-9670-5ee742a11872",
   "metadata": {},
   "outputs": [
    {
     "name": "stdin",
     "output_type": "stream",
     "text": [
      " -2147483648\n"
     ]
    },
    {
     "name": "stdout",
     "output_type": "stream",
     "text": [
      "A\n"
     ]
    }
   ],
   "source": [
    "# 6067 정수 1개 입력받아 분류\n",
    "n = int(input())\n",
    "if n < 0:\n",
    "    if n%2 == 0: print('A')\n",
    "    else: print('B')\n",
    "else:\n",
    "    if n%2 == 0: print('C')\n",
    "    else: print('D')"
   ]
  },
  {
   "cell_type": "code",
   "execution_count": 66,
   "id": "e3388478-4d88-43b2-a252-1390b8add96f",
   "metadata": {},
   "outputs": [
    {
     "name": "stdin",
     "output_type": "stream",
     "text": [
      " 73\n"
     ]
    },
    {
     "name": "stdout",
     "output_type": "stream",
     "text": [
      "B\n"
     ]
    }
   ],
   "source": [
    "# 6068 점수 입력받아 평가 출력\n",
    "n = int(input())\n",
    "\n",
    "if n>=90: print('A')\n",
    "elif n>=70: print('B')\n",
    "elif n>=40: print('C')\n",
    "else: print('D') \n"
   ]
  },
  {
   "cell_type": "code",
   "execution_count": 67,
   "id": "a9803494-27a1-418a-a8a5-e02607bddfad",
   "metadata": {},
   "outputs": [
    {
     "name": "stdin",
     "output_type": "stream",
     "text": [
      " A\n"
     ]
    },
    {
     "name": "stdout",
     "output_type": "stream",
     "text": [
      "best!!!\n"
     ]
    }
   ],
   "source": [
    "# 6069 평가 입력받아 다르게 출력\n",
    "n = input()\n",
    "if n == 'A': print('best!!!')\n",
    "elif n=='B': print('good!!')\n",
    "elif n=='C': print('run!')\n",
    "elif n =='D': print('slowly~')\n",
    "else: print(\"what?\")"
   ]
  },
  {
   "cell_type": "code",
   "execution_count": 69,
   "id": "df03b350-c9ca-4631-8cf0-6268bf890382",
   "metadata": {},
   "outputs": [
    {
     "name": "stdin",
     "output_type": "stream",
     "text": [
      " 12\n"
     ]
    },
    {
     "name": "stdout",
     "output_type": "stream",
     "text": [
      "winter\n"
     ]
    }
   ],
   "source": [
    "# 6070 월 입력받아 계절 출력\n",
    "n = int(input())\n",
    "# if n in [12, 1, 2]: print('winter')\n",
    "# elif n in [3, 4, 5]: print('spring')\n",
    "# elif n in [6, 7, 8]: print('summer')\n",
    "# elif n in [9, 10, 11]: print('fall')\n",
    "\n",
    "\n",
    "if n//3==1: print('spring')\n",
    "elif n//3==2: print('summer')\n",
    "elif n//3==3: print('fall')\n",
    "else: print('winter')\n"
   ]
  }
 ],
 "metadata": {
  "kernelspec": {
   "display_name": "Python 3 (ipykernel)",
   "language": "python",
   "name": "python3"
  },
  "language_info": {
   "codemirror_mode": {
    "name": "ipython",
    "version": 3
   },
   "file_extension": ".py",
   "mimetype": "text/x-python",
   "name": "python",
   "nbconvert_exporter": "python",
   "pygments_lexer": "ipython3",
   "version": "3.9.1"
  }
 },
 "nbformat": 4,
 "nbformat_minor": 5
}
