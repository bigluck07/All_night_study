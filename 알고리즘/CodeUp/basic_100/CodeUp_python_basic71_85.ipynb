{
 "cells": [
  {
   "cell_type": "code",
   "execution_count": 1,
   "id": "dc024f8e-5747-4d76-bac3-87ce5d5cce57",
   "metadata": {},
   "outputs": [
    {
     "name": "stdin",
     "output_type": "stream",
     "text": [
      " 7\n"
     ]
    },
    {
     "name": "stdout",
     "output_type": "stream",
     "text": [
      "7\n"
     ]
    },
    {
     "name": "stdin",
     "output_type": "stream",
     "text": [
      " 4\n"
     ]
    },
    {
     "name": "stdout",
     "output_type": "stream",
     "text": [
      "4\n"
     ]
    },
    {
     "name": "stdin",
     "output_type": "stream",
     "text": [
      " 2\n"
     ]
    },
    {
     "name": "stdout",
     "output_type": "stream",
     "text": [
      "2\n"
     ]
    },
    {
     "name": "stdin",
     "output_type": "stream",
     "text": [
      " 3\n"
     ]
    },
    {
     "name": "stdout",
     "output_type": "stream",
     "text": [
      "3\n"
     ]
    },
    {
     "name": "stdin",
     "output_type": "stream",
     "text": [
      " 0\n"
     ]
    }
   ],
   "source": [
    "# 6071 0 입력될 때까지 무한 출력\n",
    "status = True\n",
    "while status:\n",
    "    n = input()\n",
    "    if n == '0':\n",
    "        status = False\n",
    "        break\n",
    "    print(n)\n",
    "    "
   ]
  },
  {
   "cell_type": "code",
   "execution_count": 6,
   "id": "8721e1e0-5774-4cc0-8421-3411e0a40c4b",
   "metadata": {},
   "outputs": [
    {
     "name": "stdin",
     "output_type": "stream",
     "text": [
      " 5\n"
     ]
    },
    {
     "name": "stdout",
     "output_type": "stream",
     "text": [
      "5\n",
      "4\n",
      "3\n",
      "2\n",
      "1\n"
     ]
    }
   ],
   "source": [
    "# 6072 정수 1개 입력받아 카운트다운 출력\n",
    "n = int(input())\n",
    "while n:\n",
    "    print(n)\n",
    "    n-=1"
   ]
  },
  {
   "cell_type": "code",
   "execution_count": 7,
   "id": "522ca851-7f05-4514-af5d-07efddd16a28",
   "metadata": {},
   "outputs": [
    {
     "name": "stdin",
     "output_type": "stream",
     "text": [
      " 5\n"
     ]
    },
    {
     "name": "stdout",
     "output_type": "stream",
     "text": [
      "4\n",
      "3\n",
      "2\n",
      "1\n",
      "0\n"
     ]
    }
   ],
   "source": [
    "# 6073 정수 1개 입력받아 카운트다운 출력2\n",
    "n = int(input())\n",
    "while n:\n",
    "    n-=1\n",
    "    print(n)"
   ]
  },
  {
   "cell_type": "code",
   "execution_count": 12,
   "id": "5ae2d162-c0db-426b-b61f-dde5941d8fbd",
   "metadata": {},
   "outputs": [
    {
     "name": "stdin",
     "output_type": "stream",
     "text": [
      " f\n"
     ]
    },
    {
     "name": "stdout",
     "output_type": "stream",
     "text": [
      "a b c d e f "
     ]
    }
   ],
   "source": [
    "# 6074 문자 1개 입력받아 알파벳 출력\n",
    "n = ord(input())\n",
    "t = ord('a')\n",
    "while t<=n:\n",
    "    print(chr(t), end=' ')\n",
    "    t+=1\n"
   ]
  },
  {
   "cell_type": "code",
   "execution_count": 14,
   "id": "dda5b689-0163-443b-a178-47b339ae839f",
   "metadata": {},
   "outputs": [
    {
     "name": "stdin",
     "output_type": "stream",
     "text": [
      " 4\n"
     ]
    },
    {
     "name": "stdout",
     "output_type": "stream",
     "text": [
      "0\n",
      "1\n",
      "2\n",
      "3\n",
      "4\n"
     ]
    }
   ],
   "source": [
    "# 6075 정수 1개 입력받아 그 수까지 출력\n",
    "n = int(input())\n",
    "num = 0\n",
    "while num <= n:\n",
    "    print(num)\n",
    "    num+=1"
   ]
  },
  {
   "cell_type": "code",
   "execution_count": null,
   "id": "37356f6d-7aac-4cf6-b233-7993a4d07bca",
   "metadata": {},
   "outputs": [],
   "source": [
    "# 6076 정수 1개 입력받아 그 수까지 출력2\n",
    "n = int(input())\n",
    "num = 0\n",
    "while num <= n:\n",
    "    print(num)\n",
    "    num+=1"
   ]
  },
  {
   "cell_type": "code",
   "execution_count": 17,
   "id": "ee564983-b82e-4ec9-bd7d-5c7e20d71e4d",
   "metadata": {},
   "outputs": [
    {
     "name": "stdin",
     "output_type": "stream",
     "text": [
      " 5\n"
     ]
    },
    {
     "name": "stdout",
     "output_type": "stream",
     "text": [
      "6\n"
     ]
    }
   ],
   "source": [
    "# 6077 짝수 합 구하기\n",
    "n = int(input())\n",
    "num = 0\n",
    "while n:\n",
    "    if n%2 == 0:\n",
    "        num+=n\n",
    "    n-=1\n",
    "print(num)"
   ]
  },
  {
   "cell_type": "code",
   "execution_count": 18,
   "id": "fb98ad42-27a2-41a2-9a76-6bf87fe6083e",
   "metadata": {},
   "outputs": [
    {
     "name": "stdin",
     "output_type": "stream",
     "text": [
      " x\n"
     ]
    },
    {
     "name": "stdout",
     "output_type": "stream",
     "text": [
      "x\n"
     ]
    },
    {
     "name": "stdin",
     "output_type": "stream",
     "text": [
      " b\n"
     ]
    },
    {
     "name": "stdout",
     "output_type": "stream",
     "text": [
      "b\n"
     ]
    },
    {
     "name": "stdin",
     "output_type": "stream",
     "text": [
      " k\n"
     ]
    },
    {
     "name": "stdout",
     "output_type": "stream",
     "text": [
      "k\n"
     ]
    },
    {
     "name": "stdin",
     "output_type": "stream",
     "text": [
      " d\n"
     ]
    },
    {
     "name": "stdout",
     "output_type": "stream",
     "text": [
      "d\n"
     ]
    },
    {
     "name": "stdin",
     "output_type": "stream",
     "text": [
      " l\n"
     ]
    },
    {
     "name": "stdout",
     "output_type": "stream",
     "text": [
      "l\n"
     ]
    },
    {
     "name": "stdin",
     "output_type": "stream",
     "text": [
      " q\n"
     ]
    },
    {
     "name": "stdout",
     "output_type": "stream",
     "text": [
      "q\n"
     ]
    }
   ],
   "source": [
    "# 6078 원하는 문자가 입력될 때까지 반복 출력\n",
    "while True:\n",
    "    n = input()\n",
    "    if n == 'q':\n",
    "        print(n)\n",
    "        break\n",
    "    print(n)"
   ]
  },
  {
   "cell_type": "code",
   "execution_count": 27,
   "id": "0d35ad19-7013-40ee-bdb7-32a8ce216ef5",
   "metadata": {},
   "outputs": [
    {
     "name": "stdin",
     "output_type": "stream",
     "text": [
      " 55\n"
     ]
    },
    {
     "name": "stdout",
     "output_type": "stream",
     "text": [
      "10\n"
     ]
    }
   ],
   "source": [
    "# 6079 언제까지 더해야 할까?\n",
    "n = int(input())\n",
    "num = 0\n",
    "s = 0\n",
    "while True:\n",
    "    if s >= n:\n",
    "        break\n",
    "    num+=1\n",
    "    s += num\n",
    "print(num)\n"
   ]
  },
  {
   "cell_type": "code",
   "execution_count": 31,
   "id": "b9365214-0cdc-48eb-b10c-1f81493858a7",
   "metadata": {},
   "outputs": [
    {
     "name": "stdin",
     "output_type": "stream",
     "text": [
      " 2 3\n"
     ]
    },
    {
     "name": "stdout",
     "output_type": "stream",
     "text": [
      "1 1\n",
      "1 2\n",
      "1 3\n",
      "2 1\n",
      "2 2\n",
      "2 3\n"
     ]
    }
   ],
   "source": [
    "# 6080 주사위 2개 던지기\n",
    "n,m = map(int, input().split())\n",
    "for i in range(1,n+1):\n",
    "    for j in range(1,m+1):\n",
    "      print(i, j)  \n"
   ]
  },
  {
   "cell_type": "code",
   "execution_count": 41,
   "id": "e143d23b-87d4-4779-adcd-dbfdc0789134",
   "metadata": {},
   "outputs": [
    {
     "name": "stdin",
     "output_type": "stream",
     "text": [
      " B\n"
     ]
    },
    {
     "name": "stdout",
     "output_type": "stream",
     "text": [
      "B*1=B\n",
      "B*2=16\n",
      "B*3=21\n",
      "B*4=2C\n",
      "B*5=37\n",
      "B*6=42\n",
      "B*7=4D\n",
      "B*8=58\n",
      "B*9=63\n",
      "B*A=6E\n",
      "B*B=79\n",
      "B*C=84\n",
      "B*D=8F\n",
      "B*E=9A\n",
      "B*F=A5\n"
     ]
    }
   ],
   "source": [
    "# 6081 16진수 구구단 출력\n",
    "n=int(input(),16)\n",
    "for i in [1, 2, 3, 4, 5, 6, 7, 8, 9]:\n",
    "    print('%X'%n, '*%X'%i, '=%X'%(n*i), sep='')\n",
    "for i in ['A', 'B', 'C', 'D', 'E', 'F']:\n",
    "    i=int(i,16)\n",
    "    print('%X'%n, '*%X'%i, '=%X'%(n*i), sep='')"
   ]
  },
  {
   "cell_type": "code",
   "execution_count": 50,
   "id": "d12bbb42-7cba-4440-a5e7-dfdd1c81675b",
   "metadata": {},
   "outputs": [
    {
     "name": "stdin",
     "output_type": "stream",
     "text": [
      " 9\n"
     ]
    },
    {
     "name": "stdout",
     "output_type": "stream",
     "text": [
      "1 2 X 4 5 X 7 8 X "
     ]
    }
   ],
   "source": [
    "# 6082 3 6 9 게임의 왕이 되자\n",
    "n = int(input())\n",
    "for i in range(1, n+1):\n",
    "    if ('3' in str(i)) or ('6' in str(i)) or ('9' in str(i)):\n",
    "        print('X', end=' ')\n",
    "    else:\n",
    "        print(i, end=' ')\n"
   ]
  },
  {
   "cell_type": "code",
   "execution_count": 45,
   "id": "5967ac21-6e01-4033-b8d4-f68e7c420baa",
   "metadata": {},
   "outputs": [
    {
     "name": "stdin",
     "output_type": "stream",
     "text": [
      " 2 2 2\n"
     ]
    },
    {
     "name": "stdout",
     "output_type": "stream",
     "text": [
      "0 0 0\n",
      "0 0 1\n",
      "0 1 0\n",
      "0 1 1\n",
      "1 0 0\n",
      "1 0 1\n",
      "1 1 0\n",
      "1 1 1\n",
      "8\n"
     ]
    }
   ],
   "source": [
    "# 6083 빛 섞어 색 만들기\n",
    "r, g, b = map(int, input().split())\n",
    "num = 0\n",
    "for i in range(r):\n",
    "    for j in range(g):\n",
    "        for k in range(b):\n",
    "            print(i, j, k)\n",
    "            num+=1\n",
    "print(num)"
   ]
  },
  {
   "cell_type": "code",
   "execution_count": 53,
   "id": "cca9c4e5-9839-4c90-ad6b-90297d229775",
   "metadata": {},
   "outputs": [
    {
     "name": "stdin",
     "output_type": "stream",
     "text": [
      " 44100 16 2 10\n"
     ]
    },
    {
     "name": "stdout",
     "output_type": "stream",
     "text": [
      "1.7 MB\n"
     ]
    }
   ],
   "source": [
    "# 6084 소리 파일 저장용량 계산\n",
    "h, b, c, s = map(int, input().split())\n",
    "mb = h*b*c*s/8/1024/1024\n",
    "mb = format(mb, '.1f')\n",
    "print(mb,'MB')"
   ]
  },
  {
   "cell_type": "code",
   "execution_count": null,
   "id": "00442420-05b9-4d4f-893f-ad3e83785c18",
   "metadata": {},
   "outputs": [
    {
     "name": "stdin",
     "output_type": "stream",
     "text": [
      " 1024 768 24\n"
     ]
    },
    {
     "name": "stdout",
     "output_type": "stream",
     "text": [
      "2.25 MB\n"
     ]
    }
   ],
   "source": [
    "# 6085 그림 파일 저장용량 계산\n",
    "w, h, b = map(int, input().split())\n",
    "mb = w*h*b/8/1024/1024\n",
    "mb = format(mb, '.2f')\n",
    "print(mb,'MB')"
   ]
  }
 ],
 "metadata": {
  "kernelspec": {
   "display_name": "Python 3 (ipykernel)",
   "language": "python",
   "name": "python3"
  },
  "language_info": {
   "codemirror_mode": {
    "name": "ipython",
    "version": 3
   },
   "file_extension": ".py",
   "mimetype": "text/x-python",
   "name": "python",
   "nbconvert_exporter": "python",
   "pygments_lexer": "ipython3",
   "version": "3.9.1"
  }
 },
 "nbformat": 4,
 "nbformat_minor": 5
}
