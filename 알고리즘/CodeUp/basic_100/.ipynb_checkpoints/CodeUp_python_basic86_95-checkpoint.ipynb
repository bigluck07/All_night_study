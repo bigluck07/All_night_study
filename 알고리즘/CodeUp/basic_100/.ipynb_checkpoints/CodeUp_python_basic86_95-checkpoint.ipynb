{
 "cells": [
  {
   "cell_type": "code",
   "execution_count": 16,
   "id": "740569f2-5047-4d2d-9407-9727909f9b6f",
   "metadata": {},
   "outputs": [
    {
     "name": "stdin",
     "output_type": "stream",
     "text": [
      " 1\n"
     ]
    },
    {
     "name": "stdout",
     "output_type": "stream",
     "text": [
      "1\n"
     ]
    }
   ],
   "source": [
    "# 6086 거기까지! 이제 그만\n",
    "'''\n",
    "순서대로 계속 더해 합을 만드는데,\n",
    "그 합이 입력한 정수보다 작을 동안만 계속 더하는 프로그램\n",
    "'''\n",
    "n = int(input())\n",
    "cnt,num = 0,0\n",
    "while True:\n",
    "    if cnt >= n:\n",
    "        break\n",
    "    num +=1\n",
    "    cnt+=num\n",
    "print(cnt)\n"
   ]
  },
  {
   "cell_type": "code",
   "execution_count": 18,
   "id": "4563ef70-44f7-4ccc-8052-003792af0bb9",
   "metadata": {},
   "outputs": [
    {
     "name": "stdin",
     "output_type": "stream",
     "text": [
      " 10\n"
     ]
    },
    {
     "name": "stdout",
     "output_type": "stream",
     "text": [
      "1\n",
      "2\n",
      "4\n",
      "5\n",
      "7\n",
      "8\n",
      "10\n"
     ]
    }
   ],
   "source": [
    "# 6087 3의 배수는 통과\n",
    "'''\n",
    "1부터 입력한 정수까지 1씩 증가시켜 출력하는 프로그램을 작성하되,\n",
    "3의 배수인 경우는 출력하지 않도록 \n",
    "'''\n",
    "n = int(input())\n",
    "cnt = 1\n",
    "while cnt <= n:\n",
    "    if cnt%3==0:\n",
    "        cnt +=1\n",
    "        continue\n",
    "    print(cnt)\n",
    "    cnt +=1"
   ]
  },
  {
   "cell_type": "code",
   "execution_count": 19,
   "id": "ed9dc404-045e-4019-b077-4fab2e37d2d9",
   "metadata": {},
   "outputs": [
    {
     "name": "stdin",
     "output_type": "stream",
     "text": [
      " 1 3 5\n"
     ]
    },
    {
     "name": "stdout",
     "output_type": "stream",
     "text": [
      "13\n"
     ]
    }
   ],
   "source": [
    "# 6088 수 나열하기1 등차수열\n",
    "'''\n",
    "시작 값(a), 등차(d), 몇 번째인지를 나타내는 정수(n)가 입력될 때\n",
    "n번째 수를 출력하는 프로그램\n",
    "'''\n",
    "a,d,n = map(int, input().split())\n",
    "for i in range(1,n):\n",
    "    a+=d\n",
    "print(a)"
   ]
  },
  {
   "cell_type": "code",
   "execution_count": 21,
   "id": "6962e23c-371e-49d5-ad3d-be09c82ed045",
   "metadata": {},
   "outputs": [
    {
     "name": "stdin",
     "output_type": "stream",
     "text": [
      " 2 3 7\n"
     ]
    },
    {
     "name": "stdout",
     "output_type": "stream",
     "text": [
      "1458\n"
     ]
    }
   ],
   "source": [
    "# 6089 수 나열하기2 등비수열\n",
    "'''\n",
    "시작 값(a), 등비(r), 몇 번째인지를 나타내는 정수(n)가 입력될 때\n",
    "n번째 수를 출력하는 프로그램\n",
    "'''\n",
    "a,r,n = map(int, input().split())\n",
    "for i in range(1,n):\n",
    "    a*=r\n",
    "print(a)"
   ]
  },
  {
   "cell_type": "code",
   "execution_count": 22,
   "id": "ea962be6-0771-42ca-93fa-542cac028405",
   "metadata": {},
   "outputs": [
    {
     "name": "stdin",
     "output_type": "stream",
     "text": [
      " 1 -2 1 8\n"
     ]
    },
    {
     "name": "stdout",
     "output_type": "stream",
     "text": [
      "-85\n"
     ]
    }
   ],
   "source": [
    "# 6090 수 나열하기3\n",
    "'''\n",
    "시작 값(a), 곱할 값(m), 더할 값(d), 몇 번째인지를 나타내는 정수(n)\n",
    "'''\n",
    "a,m, d,n = map(int, input().split())\n",
    "for i in range(1,n):\n",
    "    a*=m\n",
    "    a+=d\n",
    "print(a)"
   ]
  },
  {
   "cell_type": "code",
   "execution_count": 25,
   "id": "d3a2e5c2-1e19-4521-af17-6bf5af75028f",
   "metadata": {},
   "outputs": [
    {
     "name": "stdin",
     "output_type": "stream",
     "text": [
      " 3 7 9\n"
     ]
    },
    {
     "name": "stdout",
     "output_type": "stream",
     "text": [
      "63\n"
     ]
    }
   ],
   "source": [
    "# 6091 함께 문제 푸는 날 실시간 채점 정보\n",
    "'''\n",
    "같은 날 동시에 가입한 3명의 사람들이 온라인 채점시스템에 들어와 문제를 푸는 날짜가\n",
    "매우 규칙적이라고 할 때, 다시 모두 함께 문제를 풀게 되는 그날\n",
    "'''\n",
    "\n",
    "a,b,c = map(int, input().split())\n",
    "d = 0\n",
    "m = min(a,b,c)\n",
    "while True:\n",
    "    d+=m\n",
    "    if (d%a==0) and (d%b==0) and (d%c==0):\n",
    "        print(d)\n",
    "        break\n",
    "    else:\n",
    "        pass"
   ]
  },
  {
   "cell_type": "code",
   "execution_count": 33,
   "id": "ebfb62fa-ccc5-46b1-bd0c-38f0763ca6f7",
   "metadata": {},
   "outputs": [
    {
     "name": "stdin",
     "output_type": "stream",
     "text": [
      " 10\n",
      " 1 3 2 2 5 6 7 4 5 9\n"
     ]
    },
    {
     "name": "stdout",
     "output_type": "stream",
     "text": [
      "1 2 1 1 2 1 1 0 1 0 0 0 0 0 0 0 0 0 0 0 0 0 0 0 "
     ]
    }
   ],
   "source": [
    "# 6092 이상한 출석 번호 부르기1\n",
    "'''\n",
    "출석 번호를 n번 무작위로 불렀을 때, 각 번호(1 ~ 23)가 불린 횟수\n",
    "'''\n",
    "n = int(input())\n",
    "nums = list(map(int, input().split()))\n",
    "dic = {}\n",
    "for i in range(1,24):\n",
    "    dic[i]=0\n",
    "for i in nums:\n",
    "    dic[i]+=1\n",
    "for i in dic.values():\n",
    "    print(i,end=' ')"
   ]
  },
  {
   "cell_type": "code",
   "execution_count": 43,
   "id": "00f56695-c3a9-4ea1-a5f8-12a9f83e8bf2",
   "metadata": {},
   "outputs": [
    {
     "name": "stdin",
     "output_type": "stream",
     "text": [
      " 10\n",
      " 10 4 2 3 6 6 7 9 8 5\n"
     ]
    },
    {
     "name": "stdout",
     "output_type": "stream",
     "text": [
      "5 8 9 7 6 6 3 2 4 10 "
     ]
    }
   ],
   "source": [
    "# 6093 이상한 출석 번호 부르기2\n",
    "'''\n",
    "출석 번호를 n번 무작위로 불렀을 때, 부른 번호를 거꾸로 출력\n",
    "'''\n",
    "n = int(input())+1\n",
    "num = list(input().split())\n",
    "for i in range(-1,-n,-1):\n",
    "    print(num[i], end=' ')"
   ]
  },
  {
   "cell_type": "code",
   "execution_count": 51,
   "id": "44a720f9-8226-49d0-b06d-fe8502e7a0f2",
   "metadata": {},
   "outputs": [
    {
     "name": "stdin",
     "output_type": "stream",
     "text": [
      " 10\n",
      " 10 4 2 3 6 6 7 9 8 5\n"
     ]
    },
    {
     "name": "stdout",
     "output_type": "stream",
     "text": [
      "2\n"
     ]
    }
   ],
   "source": [
    "# 6094 이상한 출석 번호 부르기3\n",
    "'''\n",
    "출석 번호를 n번 무작위로 불렀을 때, 가장 빠른 번호를 출력\n",
    "'''\n",
    "n = int(input())\n",
    "nums = [int(i) for i in input().split()]\n",
    "# print(min(nums))\n",
    "ans = nums[0]\n",
    "for i in nums[1:]:\n",
    "    if ans <= i:\n",
    "        continue\n",
    "    else: ans=i\n",
    "print(ans)"
   ]
  },
  {
   "cell_type": "code",
   "execution_count": 67,
   "id": "6647b4b9-ad69-414b-a6a5-80e596d1845b",
   "metadata": {},
   "outputs": [],
   "source": [
    "g = [[0]*19]*19"
   ]
  },
  {
   "cell_type": "code",
   "execution_count": 69,
   "id": "b99901a7-7571-4468-91f2-7f0745ff464f",
   "metadata": {},
   "outputs": [],
   "source": [
    "g[0][0] = 1"
   ]
  },
  {
   "cell_type": "code",
   "execution_count": 70,
   "id": "12851936-7723-4383-ae78-e3516fb4d2be",
   "metadata": {},
   "outputs": [
    {
     "data": {
      "text/plain": [
       "[[1, 0, 0, 0, 0, 0, 0, 0, 0, 0, 0, 0, 0, 0, 0, 0, 0, 0, 0],\n",
       " [1, 0, 0, 0, 0, 0, 0, 0, 0, 0, 0, 0, 0, 0, 0, 0, 0, 0, 0],\n",
       " [1, 0, 0, 0, 0, 0, 0, 0, 0, 0, 0, 0, 0, 0, 0, 0, 0, 0, 0],\n",
       " [1, 0, 0, 0, 0, 0, 0, 0, 0, 0, 0, 0, 0, 0, 0, 0, 0, 0, 0],\n",
       " [1, 0, 0, 0, 0, 0, 0, 0, 0, 0, 0, 0, 0, 0, 0, 0, 0, 0, 0],\n",
       " [1, 0, 0, 0, 0, 0, 0, 0, 0, 0, 0, 0, 0, 0, 0, 0, 0, 0, 0],\n",
       " [1, 0, 0, 0, 0, 0, 0, 0, 0, 0, 0, 0, 0, 0, 0, 0, 0, 0, 0],\n",
       " [1, 0, 0, 0, 0, 0, 0, 0, 0, 0, 0, 0, 0, 0, 0, 0, 0, 0, 0],\n",
       " [1, 0, 0, 0, 0, 0, 0, 0, 0, 0, 0, 0, 0, 0, 0, 0, 0, 0, 0],\n",
       " [1, 0, 0, 0, 0, 0, 0, 0, 0, 0, 0, 0, 0, 0, 0, 0, 0, 0, 0],\n",
       " [1, 0, 0, 0, 0, 0, 0, 0, 0, 0, 0, 0, 0, 0, 0, 0, 0, 0, 0],\n",
       " [1, 0, 0, 0, 0, 0, 0, 0, 0, 0, 0, 0, 0, 0, 0, 0, 0, 0, 0],\n",
       " [1, 0, 0, 0, 0, 0, 0, 0, 0, 0, 0, 0, 0, 0, 0, 0, 0, 0, 0],\n",
       " [1, 0, 0, 0, 0, 0, 0, 0, 0, 0, 0, 0, 0, 0, 0, 0, 0, 0, 0],\n",
       " [1, 0, 0, 0, 0, 0, 0, 0, 0, 0, 0, 0, 0, 0, 0, 0, 0, 0, 0],\n",
       " [1, 0, 0, 0, 0, 0, 0, 0, 0, 0, 0, 0, 0, 0, 0, 0, 0, 0, 0],\n",
       " [1, 0, 0, 0, 0, 0, 0, 0, 0, 0, 0, 0, 0, 0, 0, 0, 0, 0, 0],\n",
       " [1, 0, 0, 0, 0, 0, 0, 0, 0, 0, 0, 0, 0, 0, 0, 0, 0, 0, 0],\n",
       " [1, 0, 0, 0, 0, 0, 0, 0, 0, 0, 0, 0, 0, 0, 0, 0, 0, 0, 0]]"
      ]
     },
     "execution_count": 70,
     "metadata": {},
     "output_type": "execute_result"
    }
   ],
   "source": [
    "g"
   ]
  },
  {
   "cell_type": "code",
   "execution_count": 73,
   "id": "554b5dcd-9c8b-4fd3-8e60-77cd4b33c093",
   "metadata": {},
   "outputs": [
    {
     "name": "stdin",
     "output_type": "stream",
     "text": [
      " 5\n",
      " 1 1 \n",
      " 2 2 \n",
      " 3 3 \n",
      " 4 4 \n",
      " 5 5\n"
     ]
    },
    {
     "name": "stdout",
     "output_type": "stream",
     "text": [
      "1 0 0 0 0 0 0 0 0 0 0 0 0 0 0 0 0 0 0 \f",
      "\n",
      "0 1 0 0 0 0 0 0 0 0 0 0 0 0 0 0 0 0 0 \f",
      "\n",
      "0 0 1 0 0 0 0 0 0 0 0 0 0 0 0 0 0 0 0 \f",
      "\n",
      "0 0 0 1 0 0 0 0 0 0 0 0 0 0 0 0 0 0 0 \f",
      "\n",
      "0 0 0 0 1 0 0 0 0 0 0 0 0 0 0 0 0 0 0 \f",
      "\n",
      "0 0 0 0 0 0 0 0 0 0 0 0 0 0 0 0 0 0 0 \f",
      "\n",
      "0 0 0 0 0 0 0 0 0 0 0 0 0 0 0 0 0 0 0 \f",
      "\n",
      "0 0 0 0 0 0 0 0 0 0 0 0 0 0 0 0 0 0 0 \f",
      "\n",
      "0 0 0 0 0 0 0 0 0 0 0 0 0 0 0 0 0 0 0 \f",
      "\n",
      "0 0 0 0 0 0 0 0 0 0 0 0 0 0 0 0 0 0 0 \f",
      "\n",
      "0 0 0 0 0 0 0 0 0 0 0 0 0 0 0 0 0 0 0 \f",
      "\n",
      "0 0 0 0 0 0 0 0 0 0 0 0 0 0 0 0 0 0 0 \f",
      "\n",
      "0 0 0 0 0 0 0 0 0 0 0 0 0 0 0 0 0 0 0 \f",
      "\n",
      "0 0 0 0 0 0 0 0 0 0 0 0 0 0 0 0 0 0 0 \f",
      "\n",
      "0 0 0 0 0 0 0 0 0 0 0 0 0 0 0 0 0 0 0 \f",
      "\n",
      "0 0 0 0 0 0 0 0 0 0 0 0 0 0 0 0 0 0 0 \f",
      "\n",
      "0 0 0 0 0 0 0 0 0 0 0 0 0 0 0 0 0 0 0 \f",
      "\n",
      "0 0 0 0 0 0 0 0 0 0 0 0 0 0 0 0 0 0 0 \f",
      "\n",
      "0 0 0 0 0 0 0 0 0 0 0 0 0 0 0 0 0 0 0 \f",
      "\n"
     ]
    }
   ],
   "source": [
    "# 6095 바둑판에 흰 돌 놓기\n",
    "'''\n",
    "바둑판(19 * 19)에 n개의 흰 돌을 놓는다고 할 때,\n",
    "n개의 흰 돌이 놓인 위치를 출력하는 프로그램\n",
    "'''\n",
    "g = [[0]*19 for i in range(19)]\n",
    "\n",
    "n = int(input())\n",
    "for i in range(n):\n",
    "    x,y = map(int, input().split())\n",
    "    g[x-1][y-1] = 1\n",
    "\n",
    "for i in g:\n",
    "    for j in i:\n",
    "        print(j,end=' ')\n",
    "    print('\\f')"
   ]
  }
 ],
 "metadata": {
  "kernelspec": {
   "display_name": "Python 3 (ipykernel)",
   "language": "python",
   "name": "python3"
  },
  "language_info": {
   "codemirror_mode": {
    "name": "ipython",
    "version": 3
   },
   "file_extension": ".py",
   "mimetype": "text/x-python",
   "name": "python",
   "nbconvert_exporter": "python",
   "pygments_lexer": "ipython3",
   "version": "3.9.1"
  }
 },
 "nbformat": 4,
 "nbformat_minor": 5
}
