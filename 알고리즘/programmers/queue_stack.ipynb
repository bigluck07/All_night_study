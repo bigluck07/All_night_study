{
 "cells": [
  {
   "cell_type": "markdown",
   "id": "5b6803d4-53f5-4a59-9967-ec57f9c679a2",
   "metadata": {},
   "source": [
    "# 스택/큐"
   ]
  },
  {
   "cell_type": "markdown",
   "id": "4fbde2d2-d00d-4307-a148-ae1eec9f0427",
   "metadata": {},
   "source": [
    "## 기능개발"
   ]
  },
  {
   "cell_type": "code",
   "execution_count": 1,
   "id": "b3e8c3c2-fa8a-4cfc-bd5c-b94df24fbbb9",
   "metadata": {},
   "outputs": [],
   "source": [
    "def solution(progresses, speeds):\n",
    "    # progresses의순서로 개발이 완료됫는지 확인\n",
    "    # 100가 된 앞순위 기능으 배포시 다음날의 완료도 체크\n",
    "    # 앞순위가 배포되는날 개발완료된 기능은 한번에 배포\n",
    "    days = 0\n",
    "    answer = {}\n",
    "\n",
    "    while progresses:\n",
    "        spd = speeds.pop(0)\n",
    "        pro = progresses.pop(0)\n",
    "        tmp = pro + (spd*days)\n",
    "        \n",
    "        if tmp < 100: # 100 이하\n",
    "            if (100-tmp) / spd == (100-tmp) // spd:\n",
    "                nez = (100-tmp) // spd\n",
    "            else:\n",
    "                nez = ((100-tmp) // spd) + 1\n",
    "            days+=nez\n",
    "            answer[days] = [pro]\n",
    "        else:\n",
    "            if days in answer:\n",
    "                answer[days].append(pro)\n",
    "    answer = [len(x) for x in answer.values()]\n",
    "    return answer"
   ]
  },
  {
   "cell_type": "code",
   "execution_count": 2,
   "id": "a7feb5b5-0ebf-4db7-a9d0-ce49cd60f4f8",
   "metadata": {},
   "outputs": [
    {
     "name": "stdout",
     "output_type": "stream",
     "text": [
      "[2, 1]\n",
      "[1, 3, 2]\n"
     ]
    }
   ],
   "source": [
    "for i in range(2):\n",
    "    progresses = [[93, 30, 55], [95, 90, 99, 99, 80, 99]]\n",
    "    speeds = [[1, 30, 5], [1, 1, 1, 1, 1, 1]]\n",
    "    ret = [[2, 1], [1,3,2]]\n",
    "    print(solution(progresses[i], speeds[i]))"
   ]
  },
  {
   "cell_type": "code",
   "execution_count": 3,
   "id": "6912f75f-b8f3-439b-884d-51dd5f03163a",
   "metadata": {},
   "outputs": [],
   "source": [
    "# 문제가 개편되었습니다. 이로 인해 함수 구성이나 테스트케이스가 변경되어, 과거의 코드는 동작하지 않을 수 있습니다.\n",
    "# 새로운 함수 구성을 적용하려면 [코드 초기화] 버튼을 누르세요. 단, [코드 초기화] 버튼을 누르면 작성 중인 코드는 사라집니다.\n",
    "def solution(progresses, speeds):\n",
    "    Q=[]\n",
    "    for p, s in zip(progresses, speeds):\n",
    "        if len(Q)==0 or Q[-1][0]<-((p-100)//s):\n",
    "            # (p-100) => 음수, (p-100) // s => 내림한 음수(음수에서 내림은 절대값은 커짐)\n",
    "            # -((p-100)//s) => 올림한 양수\n",
    "            Q.append([-((p-100)//s),1]) # [days, cnt]\n",
    "        else:\n",
    "            Q[-1][1]+=1\n",
    "    return [q[1] for q in Q]"
   ]
  },
  {
   "cell_type": "code",
   "execution_count": 4,
   "id": "5af30f04-3444-478c-8295-b23d4c07ef56",
   "metadata": {},
   "outputs": [],
   "source": [
    "# 문제가 개편되었습니다. 이로 인해 함수 구성이나 테스트케이스가 변경되어, 과거의 코드는 동작하지 않을 수 있습니다.\n",
    "# 새로운 함수 구성을 적용하려면 [코드 초기화] 버튼을 누르세요. 단, [코드 초기화] 버튼을 누르면 작성 중인 코드는 사라집니다.\n",
    "def solution(progresses, speeds):\n",
    "    print(progresses)\n",
    "    print(speeds)\n",
    "    answer = []\n",
    "    time = 0\n",
    "    count = 0\n",
    "    while len(progresses)> 0:\n",
    "        if (progresses[0] + time*speeds[0]) >= 100:\n",
    "            progresses.pop(0)\n",
    "            speeds.pop(0)\n",
    "            count += 1\n",
    "        else:\n",
    "            if count > 0:\n",
    "                answer.append(count)\n",
    "                count = 0\n",
    "            time += 1\n",
    "    answer.append(count)\n",
    "    return answer"
   ]
  },
  {
   "cell_type": "code",
   "execution_count": 5,
   "id": "cdb5af73-6018-49b5-a6c5-9c3c8fd394ed",
   "metadata": {},
   "outputs": [
    {
     "name": "stdout",
     "output_type": "stream",
     "text": [
      "[93, 30, 55]\n",
      "[1, 30, 5]\n",
      "[2, 1]\n",
      "[95, 90, 99, 99, 80, 99]\n",
      "[1, 1, 1, 1, 1, 1]\n",
      "[1, 3, 2]\n"
     ]
    }
   ],
   "source": [
    "for i in range(2):\n",
    "    progresses = [[93, 30, 55], [95, 90, 99, 99, 80, 99]]\n",
    "    speeds = [[1, 30, 5], [1, 1, 1, 1, 1, 1]]\n",
    "    ret = [[2, 1], [1,3,2]]\n",
    "    print(solution(progresses[i], speeds[i]))"
   ]
  },
  {
   "cell_type": "markdown",
   "id": "216af866-5696-493d-9805-d0e73f57c007",
   "metadata": {},
   "source": [
    "## 프린터"
   ]
  },
  {
   "cell_type": "code",
   "execution_count": 14,
   "id": "4405e922-2d1a-41d4-b1f5-e76be2890e72",
   "metadata": {},
   "outputs": [],
   "source": [
    "def solution(priorities, location):\n",
    "    # 1. 인쇄 대기목록의 가장 앞에 있는 문서(J)를 대기목록에서 꺼냅니다.\n",
    "    # 2. 나머지 인쇄 대기목록에서 J보다 중요도가 높은 문서가 한 개라도 존재하면 \n",
    "    #    J를 대기목록의 가장 마지막에 넣습니다.\n",
    "    # 3. 그렇지 않으면 J를 인쇄합니다.\n",
    "    cnt = 0\n",
    "    if max(priorities) == priorities[location]:\n",
    "        cnt+=1\n",
    "        return cnt\n",
    "    else:\n",
    "        max_num = max(priorities)\n",
    "        while True:\n",
    "            max_num = max(priorities)\n",
    "            # print(priorities, location, max_num)\n",
    "            if max_num != priorities[0]:\n",
    "                j = priorities.pop(0)\n",
    "                priorities.append(j)\n",
    "                location-=1\n",
    "                if location == -1:\n",
    "                    location = len(priorities)-1\n",
    "            else:\n",
    "                priorities.pop(0)\n",
    "                location-=1\n",
    "                cnt+=1\n",
    "                if location == -1:\n",
    "                    return cnt"
   ]
  },
  {
   "cell_type": "code",
   "execution_count": 25,
   "id": "f53f2441-cae7-4ddd-84d9-59a4c660c3d0",
   "metadata": {},
   "outputs": [],
   "source": [
    "def solution(priorities, location):\n",
    "    p = [(x,y) for x,y in enumerate(priorities)]\n",
    "    q = []\n",
    "    cnt = 0\n",
    "    while True:\n",
    "        # print(p)\n",
    "        max_num = max([i[1] for i in p])\n",
    "        temp = p.pop(0)\n",
    "        if temp[1] < max_num:\n",
    "            p.append(temp)\n",
    "        else:\n",
    "            cnt +=1\n",
    "            if temp[0] == location:\n",
    "                return cnt\n",
    "            else:\n",
    "                pass\n",
    "        "
   ]
  },
  {
   "cell_type": "code",
   "execution_count": 26,
   "id": "113f041e-8bea-4e88-a095-aa7b5df0a2cb",
   "metadata": {},
   "outputs": [
    {
     "name": "stdout",
     "output_type": "stream",
     "text": [
      "1\n",
      "5\n",
      "6\n"
     ]
    }
   ],
   "source": [
    "for i in range(3):\n",
    "    priorities = [[2, 1, 3, 2], [1,1,9,1,1,1], [2, 1, 2, 1, 2, 1, 2, 1, 2]]\n",
    "    location = [2, 0, 1]\n",
    "    ret = [1, 5, 6]\n",
    "    print(solution(priorities[i], location[i]))"
   ]
  },
  {
   "cell_type": "code",
   "execution_count": 28,
   "id": "160bf28f-b306-4f80-94d0-f9a94d9778b2",
   "metadata": {},
   "outputs": [],
   "source": [
    "def solution(priorities, location):\n",
    "    queue =  [(i,p) for i,p in enumerate(priorities)]\n",
    "    answer = 0\n",
    "    while True:\n",
    "        cur = queue.pop(0)\n",
    "        if any(cur[1] < q[1] for q in queue):\n",
    "            queue.append(cur)\n",
    "        else:\n",
    "            answer += 1\n",
    "            if cur[0] == location:\n",
    "                return answer"
   ]
  },
  {
   "cell_type": "code",
   "execution_count": 29,
   "id": "e64053dc-db9c-49c4-8366-514d262fda68",
   "metadata": {},
   "outputs": [
    {
     "name": "stdout",
     "output_type": "stream",
     "text": [
      "1\n",
      "5\n",
      "6\n"
     ]
    }
   ],
   "source": [
    "for i in range(3):\n",
    "    priorities = [[2, 1, 3, 2], [1,1,9,1,1,1], [2, 1, 2, 1, 2, 1, 2, 1, 2]]\n",
    "    location = [2, 0, 1]\n",
    "    ret = [1, 5, 6]\n",
    "    print(solution(priorities[i], location[i]))"
   ]
  },
  {
   "cell_type": "markdown",
   "id": "17a8ec86-2679-4bb4-b26d-857a8fff1d82",
   "metadata": {},
   "source": [
    "## 다리를 지나는 트럭"
   ]
  },
  {
   "cell_type": "code",
   "execution_count": 67,
   "id": "a3c5d3af-ca32-49ba-a68d-e8d03b892893",
   "metadata": {},
   "outputs": [],
   "source": [
    "# bridge_length: 다리위 움직일 수 있는 칸 수(총 차량이 올라갈 수 있는 수)\n",
    "# weight: 다리의 최대 하중\n",
    "# truck_weights: 트럭 별 무게\n",
    "def solution(bridge_length, weight, truck_weights):\n",
    "    answer = 0\n",
    "    bridge = []\n",
    "    # 대기하는 트럭을 받는다\n",
    "    # 하중이 견디면 올리고 아니면 차가 나올때까지 기다린다\n",
    "    while True:\n",
    "        if answer > 1 and sum(bridge)==0: # 1시간이상 경과했는데 다리가 비어있으면 종료\n",
    "            break\n",
    "        answer +=1\n",
    "        print('time:',answer)\n",
    "        if len(truck_weights) > 0: # 대기하는 트럭 받음\n",
    "            truck = truck_weights[0]\n",
    "        print('truck:',truck)\n",
    "        \n",
    "        if sum(bridge)+ truck_weights[0]< weight: # 최대하중이 남으면\n",
    "            print('under')\n",
    "            truck_weights.pop(0)\n",
    "            if len(bridge) < bridge_length: # 다리에 자리가 남으면 올린다\n",
    "                bridge.append(truck)\n",
    "            else: # 다리에 자리가 없으면 맨 앞의 차를 빼고 넣는다\n",
    "                bridge.pop(0)\n",
    "                bridge.append(truck)\n",
    "            print(bridge)\n",
    "            print(' ')\n",
    "        else: # 최대하중을 넘으면\n",
    "            print('over')\n",
    "            if len(bridge) < bridge_length: # 다리에 자리가 남으면 올린다\n",
    "                bridge =\n",
    "            else: # 다리에 자리가 없으면 맨 앞의 차를 빼고 넣는다\n",
    "                bridge.pop(0)\n",
    "                bridge.append(0)\n",
    "            print(bridge)\n",
    "            print(' ')\n",
    "    return answer"
   ]
  },
  {
   "cell_type": "code",
   "execution_count": 94,
   "id": "0270863e-463a-4f51-ac01-9ac1118291f2",
   "metadata": {},
   "outputs": [],
   "source": [
    "# truck_weights: 트럭 별 무게\n",
    "def solution(bridge_length, weight, truck_weights):\n",
    "    answer = 0\n",
    "    bridge = [0] * bridge_length\n",
    "    n_wit = 0\n",
    "    # 대기하는 트럭을 받는다\n",
    "    # 하중이 견디면 올리고 아니면 차가 나올때까지 기다린다\n",
    "    while truck_weights:\n",
    "        n_wit -= bridge.pop(0)\n",
    "        if n_wit+truck_weights[0] <= weight:\n",
    "            bridge.append(truck_weights.pop(0))\n",
    "            n_wit+=bridge[-1]\n",
    "        else:\n",
    "            bridge.append(0)\n",
    "        answer+=1\n",
    "    return answer + bridge_length\n",
    "        "
   ]
  },
  {
   "cell_type": "code",
   "execution_count": 86,
   "id": "a083dab6-3bb9-48e9-9a3c-f3c11a07b7c7",
   "metadata": {},
   "outputs": [],
   "source": [
    "def solution(bridge_length, weight, truck_weights) :\n",
    "    answer = 0\n",
    "    bridge = [0] * bridge_length\n",
    "    now_weight = 0\n",
    "\n",
    "    while truck_weights :\n",
    "        # 트럭 빠짐\n",
    "        now_weight -= bridge.pop(0)\n",
    "        if truck_weights[0] + now_weight <= weight :\n",
    "            # 새 트럭 추가\n",
    "            bridge.append(truck_weights.pop(0))\n",
    "            now_weight += bridge[-1]\n",
    "        else :\n",
    "            bridge.append(0)\n",
    "        answer += 1\n",
    "\n",
    "    return answer + bridge_length"
   ]
  },
  {
   "cell_type": "code",
   "execution_count": 96,
   "id": "6c8c0b01-464a-4182-985a-a4f821ed164e",
   "metadata": {},
   "outputs": [
    {
     "name": "stdout",
     "output_type": "stream",
     "text": [
      "8 8\n",
      "101 101\n",
      "110 110\n"
     ]
    }
   ],
   "source": [
    "import collections\n",
    "\n",
    "DUMMY_TRUCK = 0\n",
    "\n",
    "\n",
    "class Bridge(object):\n",
    "\n",
    "    def __init__(self, length, weight):\n",
    "        self._max_length = length\n",
    "        self._max_weight = weight\n",
    "        self._queue = collections.deque()\n",
    "        self._current_weight = 0\n",
    "\n",
    "    def push(self, truck):\n",
    "        next_weight = self._current_weight + truck\n",
    "        if next_weight <= self._max_weight and len(self._queue) < self._max_length:\n",
    "            self._queue.append(truck)\n",
    "            self._current_weight = next_weight\n",
    "            return True\n",
    "        else:\n",
    "            return False\n",
    "\n",
    "    def pop(self):\n",
    "        item = self._queue.popleft()\n",
    "        self._current_weight -= item\n",
    "        return item\n",
    "\n",
    "    def __len__(self):\n",
    "        return len(self._queue)\n",
    "\n",
    "    def __repr__(self):\n",
    "        return 'Bridge({}/{} : [{}])'.format(self._current_weight, self._max_weight, list(self._queue))\n",
    "\n",
    "\n",
    "def solution(bridge_length, weight, truck_weights):\n",
    "    bridge = Bridge(bridge_length, weight)\n",
    "    trucks = collections.deque(w for w in truck_weights)\n",
    "\n",
    "    for _ in range(bridge_length):\n",
    "        bridge.push(DUMMY_TRUCK)\n",
    "\n",
    "    count = 0\n",
    "    while trucks:\n",
    "        bridge.pop()\n",
    "\n",
    "        if bridge.push(trucks[0]):\n",
    "            trucks.popleft()\n",
    "        else:\n",
    "            bridge.push(DUMMY_TRUCK)\n",
    "\n",
    "        count += 1\n",
    "\n",
    "    while bridge:\n",
    "        bridge.pop()\n",
    "        count += 1\n",
    "\n",
    "    return count\n",
    "\n",
    "\n",
    "def main():\n",
    "    print(solution(2, 10, [7, 4, 5, 6]), 8)\n",
    "    print(solution(100, 100, [10]), 101)\n",
    "    print(solution(100, 100, [10, 10, 10, 10, 10, 10, 10, 10, 10, 10]), 110)\n",
    "\n",
    "\n",
    "if __name__ == '__main__':\n",
    "    main()"
   ]
  },
  {
   "cell_type": "code",
   "execution_count": null,
   "id": "664bbfb6-fcbf-4e6a-8e33-aaea35da1275",
   "metadata": {},
   "outputs": [],
   "source": [
    "from collections import deque\n",
    "\n",
    "def solution(bridge_length, weight, truck_weights):\n",
    "    bridge = deque(0 for _ in range(bridge_length))\n",
    "    total_weight = 0\n",
    "    step = 0\n",
    "    truck_weights.reverse()\n",
    "\n",
    "    while truck_weights:\n",
    "        total_weight -= bridge.popleft()\n",
    "        if total_weight + truck_weights[-1] > weight:\n",
    "            bridge.append(0)\n",
    "        else:\n",
    "            truck = truck_weights.pop()\n",
    "            bridge.append(truck)\n",
    "            total_weight += truck\n",
    "        step += 1\n",
    "\n",
    "    step += bridge_length\n",
    "\n",
    "    return step"
   ]
  },
  {
   "cell_type": "code",
   "execution_count": 97,
   "id": "b35bbe6b-cc43-4832-acd0-3cceb01c1a69",
   "metadata": {},
   "outputs": [
    {
     "name": "stdout",
     "output_type": "stream",
     "text": [
      "8 8\n",
      "101 101\n",
      "110 110\n"
     ]
    }
   ],
   "source": [
    "for i in range(3):\n",
    "    bridge_length = [2,100,100]\n",
    "    weight = [10, 100, 100]\n",
    "    truck_weights = [[7,4,5,6],[10],[10,10,10,10,10,10,10,10,10,10]]\n",
    "    ret = [8, 101, 110]\n",
    "    print(solution(bridge_length[i], weight[i], truck_weights[i]), ret[i])"
   ]
  },
  {
   "cell_type": "markdown",
   "id": "0b8933b2-b7f4-4e95-8985-80fc03f8173f",
   "metadata": {},
   "source": [
    "## 주식가격"
   ]
  },
  {
   "cell_type": "code",
   "execution_count": 114,
   "id": "04445420-fa63-4062-8fce-55d424a6b4dd",
   "metadata": {},
   "outputs": [],
   "source": [
    "from collections import deque\n",
    "\n",
    "def solution(prices):\n",
    "    answer = []\n",
    "    while prices:\n",
    "        price = prices.pop(0)\n",
    "        upper = 0\n",
    "        if len(prices) > 0:\n",
    "            for i in prices:\n",
    "                upper+=1\n",
    "                if i >= price:\n",
    "                    continue\n",
    "                else:\n",
    "                    break\n",
    "        answer.append(upper)\n",
    "    return answer"
   ]
  },
  {
   "cell_type": "code",
   "execution_count": 149,
   "id": "3db3f4fd-8aa5-4aa6-97c2-85e8d502cf4f",
   "metadata": {},
   "outputs": [],
   "source": [
    "from collections import deque\n",
    "def solution(prices):\n",
    "    answer = []\n",
    "    prices = deque(prices)\n",
    "    for i in range(len(prices)-1):\n",
    "        price = prices.popleft()\n",
    "        cnt = check(prices, price)\n",
    "        answer.append(cnt)\n",
    "    answer.append(0)\n",
    "    return answer\n",
    "\n",
    "def check(prices, price):\n",
    "    cnt = 0\n",
    "    if len(prices) == 0:\n",
    "        return 1\n",
    "    for i in prices:\n",
    "        cnt +=1\n",
    "        if i >= price:\n",
    "            continue\n",
    "        else:\n",
    "            break\n",
    "    return cnt"
   ]
  },
  {
   "cell_type": "code",
   "execution_count": 165,
   "id": "3f5cfc89-21d3-416e-8e1d-475f31fb8126",
   "metadata": {},
   "outputs": [],
   "source": [
    "def solution(prices):\n",
    "    stack = []\n",
    "    answer = [0] * len(prices)\n",
    "    for i in range(len(prices)):\n",
    "        if stack != []:\n",
    "            while stack != [] and stack[-1][1] > prices[i]:\n",
    "                past, _ = stack.pop()\n",
    "                answer[past] = i - past\n",
    "        stack.append([i, prices[i]])\n",
    "        print(stack)\n",
    "    for i, s in stack:\n",
    "        answer[i] = len(prices) - 1 - i\n",
    "    return answer"
   ]
  },
  {
   "cell_type": "code",
   "execution_count": 139,
   "id": "061a8f96-1cb5-4d00-bfb4-225a082a8d5d",
   "metadata": {},
   "outputs": [],
   "source": [
    "def solution(prices):\n",
    "    answer = [0] * len(prices)\n",
    "    for i in range(len(prices)):\n",
    "        for j in range(i+1, len(prices)):\n",
    "            if prices[i] <= prices[j]:\n",
    "                answer[i] += 1\n",
    "            else:\n",
    "                answer[i] += 1\n",
    "                break\n",
    "    return answer"
   ]
  },
  {
   "cell_type": "code",
   "execution_count": 167,
   "id": "7532b1a3-6ac6-44e0-9c8a-7394393c48b3",
   "metadata": {},
   "outputs": [
    {
     "name": "stdout",
     "output_type": "stream",
     "text": [
      "[[0, 1]]\n",
      "[[0, 1], [1, 2]]\n",
      "[[0, 1], [1, 2], [2, 3]]\n",
      "[[0, 1], [1, 2], [3, 2]]\n",
      "[[0, 1], [1, 2], [3, 2], [4, 3]]\n",
      "[4, 3, 1, 1, 0]\n",
      "0.14964 sec\n"
     ]
    }
   ],
   "source": [
    "import math \n",
    "import time\n",
    "\n",
    "start = time.time() \n",
    "math.factorial(100000) \n",
    "print(solution([1, 2, 3, 2, 3]))\n",
    "end = time.time() \n",
    "print(f\"{end - start:.5f} sec\")"
   ]
  },
  {
   "cell_type": "code",
   "execution_count": null,
   "id": "138cf5e2-d93f-4ad3-bf0b-5cfd9a9416e6",
   "metadata": {},
   "outputs": [],
   "source": []
  }
 ],
 "metadata": {
  "kernelspec": {
   "display_name": "Python 3 (ipykernel)",
   "language": "python",
   "name": "python3"
  },
  "language_info": {
   "codemirror_mode": {
    "name": "ipython",
    "version": 3
   },
   "file_extension": ".py",
   "mimetype": "text/x-python",
   "name": "python",
   "nbconvert_exporter": "python",
   "pygments_lexer": "ipython3",
   "version": "3.9.1"
  }
 },
 "nbformat": 4,
 "nbformat_minor": 5
}
