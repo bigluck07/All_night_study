{
 "cells": [
  {
   "cell_type": "markdown",
   "id": "eea5f2b4-4d3f-429c-a440-7ca9120697f0",
   "metadata": {},
   "source": [
    "# 해시"
   ]
  },
  {
   "cell_type": "markdown",
   "id": "f24bdffd-5b3f-4cc1-8db5-12475de112c6",
   "metadata": {},
   "source": [
    "## 완주하지 못한 선수 "
   ]
  },
  {
   "cell_type": "code",
   "execution_count": 1,
   "id": "d8f67146-94d8-40d1-aeec-f9c1f70cde30",
   "metadata": {},
   "outputs": [],
   "source": [
    "def solution(participant, completion): # 참여, 완주\n",
    "    answer = '' # 미완주\n",
    "    # hsh = {}\n",
    "    participant.sort()\n",
    "    completion.sort()\n",
    "    answer = participant[-1]\n",
    "    for num in range(len(participant)-1):\n",
    "        if participant[num] == completion[num]:\n",
    "            pass\n",
    "        else:\n",
    "            answer = participant[num]\n",
    "            break\n",
    "    return answer"
   ]
  },
  {
   "cell_type": "code",
   "execution_count": 3,
   "id": "ea755e2e-5af3-42ce-8cd1-9406dfe408d4",
   "metadata": {},
   "outputs": [],
   "source": [
    "import collections # 컨테이너 데이터 형\n",
    "\n",
    "def solution(participant, completion):\n",
    "    answer = collections.Counter(participant) - collections.Counter(completion) #  해시 가능한 객체를 세기 위한 dict 서브 클래스\n",
    "    return list(answer.keys())[0]"
   ]
  },
  {
   "cell_type": "code",
   "execution_count": 4,
   "id": "6c42df28-dbf5-45d8-9d5e-96505480521e",
   "metadata": {},
   "outputs": [
    {
     "name": "stdout",
     "output_type": "stream",
     "text": [
      "Counter({'leo': 1})\n",
      "leo leo\n",
      "Counter({'vinko': 1})\n",
      "vinko vinko\n",
      "Counter({'mislav': 1})\n",
      "mislav mislav\n"
     ]
    }
   ],
   "source": [
    "for i in range(3):\n",
    "    participant = [[\"leo\", \"kiki\", \"eden\"], [\"marina\", \"josipa\", \"nikola\", \"vinko\", \"filipa\"], [\"mislav\", \"stanko\", \"mislav\", \"ana\"]]\n",
    "    completion = [[\"eden\", \"kiki\"], [\"josipa\", \"filipa\", \"marina\", \"nikola\"], [\"stanko\", \"ana\", \"mislav\"]]\n",
    "    ret = [\"leo\", \"vinko\", \"mislav\"]\n",
    "    print(solution(participant[i], completion[i]), ret[i])"
   ]
  },
  {
   "cell_type": "markdown",
   "id": "4fab7a01-7d68-4de8-bdef-ee12dfc09aa1",
   "metadata": {},
   "source": [
    "## 전화번호 목록"
   ]
  },
  {
   "cell_type": "code",
   "execution_count": 17,
   "id": "a2123b7a-76bf-454d-9c81-bb7a4e8bf6bb",
   "metadata": {},
   "outputs": [],
   "source": [
    "def solution(phone_book):\n",
    "    answer = True\n",
    "    phone_book.sort()\n",
    "    for i in range(len(phone_book)-1):\n",
    "        a = str(phone_book[i])\n",
    "        b = str(phone_book[i+1])\n",
    "        # print(len(a))\n",
    "        if a[0] == b[0]:\n",
    "            if a == b[:len(a)]:\n",
    "                answer = False\n",
    "                break\n",
    "        else:\n",
    "            pass\n",
    "    return answer"
   ]
  },
  {
   "cell_type": "code",
   "execution_count": 12,
   "id": "f7dcbdb6-1ae9-47ff-95fb-a670613aa271",
   "metadata": {},
   "outputs": [],
   "source": [
    "def solution(phone_book):\n",
    "    answer = True\n",
    "    phone_book.sort()\n",
    "    for i, j in zip(phone_book, phone_book[1:]):\n",
    "        if j.startswith(i):\n",
    "            answer = False\n",
    "            break\n",
    "    return answer"
   ]
  },
  {
   "cell_type": "code",
   "execution_count": 18,
   "id": "14a982f1-93ff-4358-a1f9-d6659065c4b1",
   "metadata": {},
   "outputs": [
    {
     "name": "stdout",
     "output_type": "stream",
     "text": [
      "False false\n",
      "True true\n",
      "False false\n"
     ]
    }
   ],
   "source": [
    "for i in range(3):\n",
    "    phone_book = [[\"119\", \"97674223\", \"1195524421\"], [\"123\",\"456\",\"789\"], [\"12\",\"123\",\"1235\",\"567\",\"88\"]]\n",
    "    ret = [\"false\", \"true\", \"false\"]\n",
    "    print(solution(phone_book[i]), ret[i])"
   ]
  },
  {
   "cell_type": "markdown",
   "id": "7ab0fc24-4075-46b4-a9b9-a631a656870a",
   "metadata": {},
   "source": [
    "## 위장"
   ]
  },
  {
   "cell_type": "code",
   "execution_count": 19,
   "id": "603fa7d9-81f4-4330-a80a-ceed93c94006",
   "metadata": {},
   "outputs": [],
   "source": [
    "def solution(clothes):\n",
    "    answer = 1\n",
    "    daily = {}\n",
    "    for num,i in enumerate(clothes):\n",
    "        if i[1] in daily:\n",
    "            daily[i[1]] +=1\n",
    "        else:\n",
    "            daily[i[1]] = 2\n",
    "    for i in daily.values():\n",
    "        answer*=i\n",
    "    return answer-1"
   ]
  },
  {
   "cell_type": "code",
   "execution_count": 21,
   "id": "bba72dda-e9fd-40f0-9a58-3d0d53ddce44",
   "metadata": {},
   "outputs": [
    {
     "name": "stdout",
     "output_type": "stream",
     "text": [
      "5 5\n",
      "3 3\n"
     ]
    }
   ],
   "source": [
    "for i in range(2):\n",
    "    phone_book = [[[\"yellowhat\", \"headgear\"], [\"bluesunglasses\", \"eyewear\"], [\"green_turban\", \"headgear\"]], [[\"crowmask\", \"face\"], [\"bluesunglasses\", \"face\"], [\"smoky_makeup\", \"face\"]]]\n",
    "    ret = [5,3]\n",
    "    print(solution(phone_book[i]), ret[i])"
   ]
  },
  {
   "cell_type": "markdown",
   "id": "6bea943f-1f9c-4450-acbc-9145ab07f0e4",
   "metadata": {},
   "source": [
    "## 베스트앨범"
   ]
  },
  {
   "cell_type": "code",
   "execution_count": 305,
   "id": "336bb72a-87d8-4cfb-be89-796d1e1e1eea",
   "metadata": {},
   "outputs": [],
   "source": [
    "import copy\n",
    "\n",
    "def solution(genres, plays):\n",
    "    # 장르별 재생횟수\n",
    "    # 곡별 고유 넘버\n",
    "    answer = []\n",
    "    play_ls = {}\n",
    "    for idx, genre in enumerate(genres):\n",
    "        if genre in play_ls:\n",
    "            play_ls[genre].append([idx, plays[idx]])\n",
    "        else:\n",
    "            play_ls[genre] = [[idx, plays[idx]]]\n",
    "    \n",
    "    genreSort =sorted(list(play_ls.keys()), key= lambda x: sum( map(lambda y: y[1],play_ls[x])), reverse = True)\n",
    "    for i in genreSort:\n",
    "        temp = [e[1] for e in sorted(d[i],key= lambda x: (x[1], -x[0]), reverse = True)]\n",
    "        answer += temp[:min(len(temp),2)]\n",
    "    return answer"
   ]
  },
  {
   "cell_type": "code",
   "execution_count": 304,
   "id": "6f4b4588-fcb7-4891-9118-4ce26e474be2",
   "metadata": {},
   "outputs": [],
   "source": [
    "import collections # 컨테이너 데이터 형\n",
    "import copy\n",
    "\n",
    "def solution(genres, plays):\n",
    "    # 장르별 재생횟수\n",
    "    # 곡별 고유 넘버\n",
    "    answer = []\n",
    "    gen, play_ls = {}, {}\n",
    "    for idx, genre in enumerate(genres):\n",
    "        if genre in gen:\n",
    "            gen[genre] += plays[idx]\n",
    "            if len(play_ls[genre]) < 2:\n",
    "                play_ls[genre][idx]=plays[idx]\n",
    "            else:\n",
    "                min_val = min(play_ls[genre].values())\n",
    "                if plays[idx] > min_val:\n",
    "                    print(play_ls[genre])\n",
    "                    for i in play_ls[genre]:\n",
    "                        if min_val == play_ls[genre][i]:\n",
    "                            del play_ls[genre][i]\n",
    "                            play_ls[genre][idx]=plays[idx]\n",
    "                            break\n",
    "                else:\n",
    "                    pass\n",
    "        else:\n",
    "            gen[genre] = plays[idx]\n",
    "            play_ls[genre] = {idx:plays[idx]}\n",
    "    print(play_ls)\n",
    "    gen = sorted(gen.items(), key = lambda x: x [1], reverse=True)\n",
    "    for i in gen:\n",
    "        tmp = sorted(play_ls[i[0]].items(), key = lambda x: x [1], reverse=True)\n",
    "        answer+=[i[0] for i in tmp]\n",
    "    return answer"
   ]
  },
  {
   "cell_type": "code",
   "execution_count": 306,
   "id": "21d02cbb-b1e7-44f5-a6ef-6d9311b88bd5",
   "metadata": {},
   "outputs": [
    {
     "name": "stdout",
     "output_type": "stream",
     "text": [
      "[4, 1, 3, 2] [4, 1, 3, 0]\n"
     ]
    }
   ],
   "source": [
    "for i in range(1):\n",
    "    genres = [\"classic\", \"pop\", \"classic\", \"classic\", \"pop\"]\n",
    "    plays = [500, 600, 150, 800, 2500]\n",
    "    ret = [4,1,3,0]\n",
    "    print(solution(genres, plays), ret)"
   ]
  },
  {
   "cell_type": "code",
   "execution_count": 292,
   "id": "a2a50cb7-d120-4663-9ac7-f44e66facd3c",
   "metadata": {},
   "outputs": [
    {
     "name": "stdout",
     "output_type": "stream",
     "text": [
      "{'pop': [[600, 1], [2500, 4]], 'classic': [[500, 0], [150, 2], [800, 3]]}\n"
     ]
    },
    {
     "data": {
      "text/plain": [
       "[4, 1, 3, 0]"
      ]
     },
     "execution_count": 292,
     "metadata": {},
     "output_type": "execute_result"
    }
   ],
   "source": [
    "def solution(genres, plays):\n",
    "    answer = []\n",
    "    d = {e:[] for e in set(genres)}\n",
    "    for e in zip(genres, plays, range(len(plays))):\n",
    "        d[e[0]].append([e[1] , e[2]])\n",
    "    print(d)\n",
    "    genreSort =sorted(list(d.keys()), key= lambda x: sum( map(lambda y: y[0],d[x])), reverse = True)\n",
    "    for g in genreSort:\n",
    "        temp = [e[1] for e in sorted(d[g],key= lambda x: (x[0], -x[1]), reverse = True)]\n",
    "        answer += temp[:min(len(temp),2)]\n",
    "    return answer\n",
    "\n",
    "solution(genres, plays)"
   ]
  },
  {
   "cell_type": "code",
   "execution_count": 307,
   "id": "0447a142-8057-4312-a9af-3c7211ad8aba",
   "metadata": {},
   "outputs": [],
   "source": [
    "d = {'pop': [[600, 1], [2500, 4]], 'classic': [[500, 0], [150, 2], [800, 3]]}"
   ]
  },
  {
   "cell_type": "code",
   "execution_count": 315,
   "id": "688ccef9-7565-44d7-941f-4fdc0680ca10",
   "metadata": {},
   "outputs": [
    {
     "name": "stdout",
     "output_type": "stream",
     "text": [
      "[[2500, 4], [600, 1]]\n",
      "[[800, 3], [500, 0], [150, 2]]\n"
     ]
    },
    {
     "data": {
      "text/plain": [
       "[4, 1, 3, 0]"
      ]
     },
     "execution_count": 315,
     "metadata": {},
     "output_type": "execute_result"
    }
   ],
   "source": [
    "def solution(genres, plays):\n",
    "    # 장르별 재생횟수\n",
    "    # 곡별 고유 넘버\n",
    "    answer = []\n",
    "    play_ls = {}\n",
    "    for idx, genre in enumerate(genres):\n",
    "        if genre in play_ls:\n",
    "            play_ls[genre].append([idx, plays[idx]])\n",
    "        else:\n",
    "            play_ls[genre] = [[idx, plays[idx]]]\n",
    "\n",
    "    genreSort =sorted(list(play_ls.keys()), key= lambda x: sum( map(lambda y: y[1],play_ls[x])), reverse = True)\n",
    "\n",
    "    for i in genreSort:\n",
    "        print(sorted(d[i],key= lambda x: (x[0], -x[1]), reverse = True)) # -를 붙인것은 고유번호가 낮은 것을 크다고 보는 문제요소를 고려함\n",
    "        temp = [e[1] for e in sorted(d[i],key= lambda x: (x[0], -x[1]), reverse = True)]\n",
    "        answer += temp[:min(len(temp),2)]\n",
    "    return answer\n",
    "\n",
    "solution(genres, plays)"
   ]
  },
  {
   "cell_type": "code",
   "execution_count": null,
   "id": "4830fece-9b14-4664-8c3e-007559e878be",
   "metadata": {},
   "outputs": [],
   "source": [
    "[[2500, 4], [600, 1]]\n",
    "[[800, 3], [500, 0], [150, 2]]\n",
    "[4, 1, 3, 0]"
   ]
  }
 ],
 "metadata": {
  "kernelspec": {
   "display_name": "Python 3 (ipykernel)",
   "language": "python",
   "name": "python3"
  },
  "language_info": {
   "codemirror_mode": {
    "name": "ipython",
    "version": 3
   },
   "file_extension": ".py",
   "mimetype": "text/x-python",
   "name": "python",
   "nbconvert_exporter": "python",
   "pygments_lexer": "ipython3",
   "version": "3.9.1"
  }
 },
 "nbformat": 4,
 "nbformat_minor": 5
}
